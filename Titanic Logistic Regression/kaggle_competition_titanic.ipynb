{
 "cells": [
  {
   "cell_type": "code",
   "execution_count": 1,
   "id": "ee74d7ba",
   "metadata": {
    "execution": {
     "iopub.execute_input": "2023-08-17T08:38:39.981273Z",
     "iopub.status.busy": "2023-08-17T08:38:39.980128Z",
     "iopub.status.idle": "2023-08-17T08:38:41.647205Z",
     "shell.execute_reply": "2023-08-17T08:38:41.646161Z"
    },
    "papermill": {
     "duration": 1.687079,
     "end_time": "2023-08-17T08:38:41.649952",
     "exception": false,
     "start_time": "2023-08-17T08:38:39.962873",
     "status": "completed"
    },
    "tags": []
   },
   "outputs": [
    {
     "name": "stderr",
     "output_type": "stream",
     "text": [
      "/opt/conda/lib/python3.10/site-packages/scipy/__init__.py:146: UserWarning: A NumPy version >=1.16.5 and <1.23.0 is required for this version of SciPy (detected version 1.23.5\n",
      "  warnings.warn(f\"A NumPy version >={np_minversion} and <{np_maxversion}\"\n"
     ]
    }
   ],
   "source": [
    "import numpy as np\n",
    "import pandas as pd\n",
    "import matplotlib.pyplot as plt\n",
    "import seaborn as sns\n",
    "%matplotlib inline"
   ]
  },
  {
   "cell_type": "code",
   "execution_count": 2,
   "id": "e18a3daa",
   "metadata": {
    "execution": {
     "iopub.execute_input": "2023-08-17T08:38:41.677717Z",
     "iopub.status.busy": "2023-08-17T08:38:41.677290Z",
     "iopub.status.idle": "2023-08-17T08:38:41.702680Z",
     "shell.execute_reply": "2023-08-17T08:38:41.701325Z"
    },
    "papermill": {
     "duration": 0.042854,
     "end_time": "2023-08-17T08:38:41.705462",
     "exception": false,
     "start_time": "2023-08-17T08:38:41.662608",
     "status": "completed"
    },
    "tags": []
   },
   "outputs": [],
   "source": [
    "df_train = pd.read_csv('/kaggle/input/titanic/train.csv')"
   ]
  },
  {
   "cell_type": "code",
   "execution_count": 3,
   "id": "93004080",
   "metadata": {
    "execution": {
     "iopub.execute_input": "2023-08-17T08:38:41.733913Z",
     "iopub.status.busy": "2023-08-17T08:38:41.732625Z",
     "iopub.status.idle": "2023-08-17T08:38:41.753242Z",
     "shell.execute_reply": "2023-08-17T08:38:41.752209Z"
    },
    "papermill": {
     "duration": 0.037567,
     "end_time": "2023-08-17T08:38:41.756058",
     "exception": false,
     "start_time": "2023-08-17T08:38:41.718491",
     "status": "completed"
    },
    "tags": []
   },
   "outputs": [],
   "source": [
    "df_test = pd.read_csv('/kaggle/input/titanic/test.csv')\n",
    "submission = pd.read_csv('/kaggle/input/titanic/gender_submission.csv')"
   ]
  },
  {
   "cell_type": "code",
   "execution_count": 4,
   "id": "af5e796b",
   "metadata": {
    "execution": {
     "iopub.execute_input": "2023-08-17T08:38:41.783253Z",
     "iopub.status.busy": "2023-08-17T08:38:41.782819Z",
     "iopub.status.idle": "2023-08-17T08:38:41.812517Z",
     "shell.execute_reply": "2023-08-17T08:38:41.811251Z"
    },
    "papermill": {
     "duration": 0.046058,
     "end_time": "2023-08-17T08:38:41.815044",
     "exception": false,
     "start_time": "2023-08-17T08:38:41.768986",
     "status": "completed"
    },
    "tags": []
   },
   "outputs": [
    {
     "data": {
      "text/html": [
       "<div>\n",
       "<style scoped>\n",
       "    .dataframe tbody tr th:only-of-type {\n",
       "        vertical-align: middle;\n",
       "    }\n",
       "\n",
       "    .dataframe tbody tr th {\n",
       "        vertical-align: top;\n",
       "    }\n",
       "\n",
       "    .dataframe thead th {\n",
       "        text-align: right;\n",
       "    }\n",
       "</style>\n",
       "<table border=\"1\" class=\"dataframe\">\n",
       "  <thead>\n",
       "    <tr style=\"text-align: right;\">\n",
       "      <th></th>\n",
       "      <th>PassengerId</th>\n",
       "      <th>Survived</th>\n",
       "      <th>Pclass</th>\n",
       "      <th>Name</th>\n",
       "      <th>Sex</th>\n",
       "      <th>Age</th>\n",
       "      <th>SibSp</th>\n",
       "      <th>Parch</th>\n",
       "      <th>Ticket</th>\n",
       "      <th>Fare</th>\n",
       "      <th>Cabin</th>\n",
       "      <th>Embarked</th>\n",
       "    </tr>\n",
       "  </thead>\n",
       "  <tbody>\n",
       "    <tr>\n",
       "      <th>0</th>\n",
       "      <td>1</td>\n",
       "      <td>0</td>\n",
       "      <td>3</td>\n",
       "      <td>Braund, Mr. Owen Harris</td>\n",
       "      <td>male</td>\n",
       "      <td>22.0</td>\n",
       "      <td>1</td>\n",
       "      <td>0</td>\n",
       "      <td>A/5 21171</td>\n",
       "      <td>7.2500</td>\n",
       "      <td>NaN</td>\n",
       "      <td>S</td>\n",
       "    </tr>\n",
       "    <tr>\n",
       "      <th>1</th>\n",
       "      <td>2</td>\n",
       "      <td>1</td>\n",
       "      <td>1</td>\n",
       "      <td>Cumings, Mrs. John Bradley (Florence Briggs Th...</td>\n",
       "      <td>female</td>\n",
       "      <td>38.0</td>\n",
       "      <td>1</td>\n",
       "      <td>0</td>\n",
       "      <td>PC 17599</td>\n",
       "      <td>71.2833</td>\n",
       "      <td>C85</td>\n",
       "      <td>C</td>\n",
       "    </tr>\n",
       "    <tr>\n",
       "      <th>2</th>\n",
       "      <td>3</td>\n",
       "      <td>1</td>\n",
       "      <td>3</td>\n",
       "      <td>Heikkinen, Miss. Laina</td>\n",
       "      <td>female</td>\n",
       "      <td>26.0</td>\n",
       "      <td>0</td>\n",
       "      <td>0</td>\n",
       "      <td>STON/O2. 3101282</td>\n",
       "      <td>7.9250</td>\n",
       "      <td>NaN</td>\n",
       "      <td>S</td>\n",
       "    </tr>\n",
       "    <tr>\n",
       "      <th>3</th>\n",
       "      <td>4</td>\n",
       "      <td>1</td>\n",
       "      <td>1</td>\n",
       "      <td>Futrelle, Mrs. Jacques Heath (Lily May Peel)</td>\n",
       "      <td>female</td>\n",
       "      <td>35.0</td>\n",
       "      <td>1</td>\n",
       "      <td>0</td>\n",
       "      <td>113803</td>\n",
       "      <td>53.1000</td>\n",
       "      <td>C123</td>\n",
       "      <td>S</td>\n",
       "    </tr>\n",
       "    <tr>\n",
       "      <th>4</th>\n",
       "      <td>5</td>\n",
       "      <td>0</td>\n",
       "      <td>3</td>\n",
       "      <td>Allen, Mr. William Henry</td>\n",
       "      <td>male</td>\n",
       "      <td>35.0</td>\n",
       "      <td>0</td>\n",
       "      <td>0</td>\n",
       "      <td>373450</td>\n",
       "      <td>8.0500</td>\n",
       "      <td>NaN</td>\n",
       "      <td>S</td>\n",
       "    </tr>\n",
       "  </tbody>\n",
       "</table>\n",
       "</div>"
      ],
      "text/plain": [
       "   PassengerId  Survived  Pclass  \\\n",
       "0            1         0       3   \n",
       "1            2         1       1   \n",
       "2            3         1       3   \n",
       "3            4         1       1   \n",
       "4            5         0       3   \n",
       "\n",
       "                                                Name     Sex   Age  SibSp  \\\n",
       "0                            Braund, Mr. Owen Harris    male  22.0      1   \n",
       "1  Cumings, Mrs. John Bradley (Florence Briggs Th...  female  38.0      1   \n",
       "2                             Heikkinen, Miss. Laina  female  26.0      0   \n",
       "3       Futrelle, Mrs. Jacques Heath (Lily May Peel)  female  35.0      1   \n",
       "4                           Allen, Mr. William Henry    male  35.0      0   \n",
       "\n",
       "   Parch            Ticket     Fare Cabin Embarked  \n",
       "0      0         A/5 21171   7.2500   NaN        S  \n",
       "1      0          PC 17599  71.2833   C85        C  \n",
       "2      0  STON/O2. 3101282   7.9250   NaN        S  \n",
       "3      0            113803  53.1000  C123        S  \n",
       "4      0            373450   8.0500   NaN        S  "
      ]
     },
     "execution_count": 4,
     "metadata": {},
     "output_type": "execute_result"
    }
   ],
   "source": [
    "df_train.head()"
   ]
  },
  {
   "cell_type": "code",
   "execution_count": 5,
   "id": "a9f3821a",
   "metadata": {
    "execution": {
     "iopub.execute_input": "2023-08-17T08:38:41.844566Z",
     "iopub.status.busy": "2023-08-17T08:38:41.843454Z",
     "iopub.status.idle": "2023-08-17T08:38:41.854400Z",
     "shell.execute_reply": "2023-08-17T08:38:41.852950Z"
    },
    "papermill": {
     "duration": 0.028462,
     "end_time": "2023-08-17T08:38:41.856927",
     "exception": false,
     "start_time": "2023-08-17T08:38:41.828465",
     "status": "completed"
    },
    "tags": []
   },
   "outputs": [
    {
     "data": {
      "text/plain": [
       "array(['S', 'C', 'Q', nan], dtype=object)"
      ]
     },
     "execution_count": 5,
     "metadata": {},
     "output_type": "execute_result"
    }
   ],
   "source": [
    "df_train['Embarked'].unique()"
   ]
  },
  {
   "cell_type": "code",
   "execution_count": 6,
   "id": "a270be58",
   "metadata": {
    "execution": {
     "iopub.execute_input": "2023-08-17T08:38:41.885492Z",
     "iopub.status.busy": "2023-08-17T08:38:41.884695Z",
     "iopub.status.idle": "2023-08-17T08:38:41.897771Z",
     "shell.execute_reply": "2023-08-17T08:38:41.896853Z"
    },
    "papermill": {
     "duration": 0.030193,
     "end_time": "2023-08-17T08:38:41.900093",
     "exception": false,
     "start_time": "2023-08-17T08:38:41.869900",
     "status": "completed"
    },
    "tags": []
   },
   "outputs": [
    {
     "data": {
      "text/plain": [
       "PassengerId      0\n",
       "Survived         0\n",
       "Pclass           0\n",
       "Name             0\n",
       "Sex              0\n",
       "Age            177\n",
       "SibSp            0\n",
       "Parch            0\n",
       "Ticket           0\n",
       "Fare             0\n",
       "Cabin          687\n",
       "Embarked         2\n",
       "dtype: int64"
      ]
     },
     "execution_count": 6,
     "metadata": {},
     "output_type": "execute_result"
    }
   ],
   "source": [
    "df_train.isna().sum()"
   ]
  },
  {
   "cell_type": "code",
   "execution_count": 7,
   "id": "81434941",
   "metadata": {
    "execution": {
     "iopub.execute_input": "2023-08-17T08:38:41.931277Z",
     "iopub.status.busy": "2023-08-17T08:38:41.930551Z",
     "iopub.status.idle": "2023-08-17T08:38:41.940128Z",
     "shell.execute_reply": "2023-08-17T08:38:41.939154Z"
    },
    "papermill": {
     "duration": 0.029536,
     "end_time": "2023-08-17T08:38:41.943969",
     "exception": false,
     "start_time": "2023-08-17T08:38:41.914433",
     "status": "completed"
    },
    "tags": []
   },
   "outputs": [
    {
     "data": {
      "text/plain": [
       "PassengerId      0\n",
       "Pclass           0\n",
       "Name             0\n",
       "Sex              0\n",
       "Age             86\n",
       "SibSp            0\n",
       "Parch            0\n",
       "Ticket           0\n",
       "Fare             1\n",
       "Cabin          327\n",
       "Embarked         0\n",
       "dtype: int64"
      ]
     },
     "execution_count": 7,
     "metadata": {},
     "output_type": "execute_result"
    }
   ],
   "source": [
    "df_test.isna().sum()"
   ]
  },
  {
   "cell_type": "code",
   "execution_count": 8,
   "id": "74751ced",
   "metadata": {
    "execution": {
     "iopub.execute_input": "2023-08-17T08:38:41.974340Z",
     "iopub.status.busy": "2023-08-17T08:38:41.973303Z",
     "iopub.status.idle": "2023-08-17T08:38:41.985345Z",
     "shell.execute_reply": "2023-08-17T08:38:41.984442Z"
    },
    "papermill": {
     "duration": 0.029392,
     "end_time": "2023-08-17T08:38:41.988034",
     "exception": false,
     "start_time": "2023-08-17T08:38:41.958642",
     "status": "completed"
    },
    "tags": []
   },
   "outputs": [],
   "source": [
    "df_train.drop('Cabin', axis = 1, inplace = True)"
   ]
  },
  {
   "cell_type": "code",
   "execution_count": 9,
   "id": "26fba3fc",
   "metadata": {
    "execution": {
     "iopub.execute_input": "2023-08-17T08:38:42.018394Z",
     "iopub.status.busy": "2023-08-17T08:38:42.017658Z",
     "iopub.status.idle": "2023-08-17T08:38:42.023137Z",
     "shell.execute_reply": "2023-08-17T08:38:42.022296Z"
    },
    "papermill": {
     "duration": 0.023682,
     "end_time": "2023-08-17T08:38:42.025515",
     "exception": false,
     "start_time": "2023-08-17T08:38:42.001833",
     "status": "completed"
    },
    "tags": []
   },
   "outputs": [],
   "source": [
    "df_test.drop('Cabin', axis = 1, inplace = True)"
   ]
  },
  {
   "cell_type": "code",
   "execution_count": 10,
   "id": "5cb99088",
   "metadata": {
    "execution": {
     "iopub.execute_input": "2023-08-17T08:38:42.055213Z",
     "iopub.status.busy": "2023-08-17T08:38:42.054490Z",
     "iopub.status.idle": "2023-08-17T08:38:42.060866Z",
     "shell.execute_reply": "2023-08-17T08:38:42.059610Z"
    },
    "papermill": {
     "duration": 0.024691,
     "end_time": "2023-08-17T08:38:42.063739",
     "exception": false,
     "start_time": "2023-08-17T08:38:42.039048",
     "status": "completed"
    },
    "tags": []
   },
   "outputs": [],
   "source": [
    "df_train['Age'] = df_train['Age'].fillna(df_train['Age'].mean())"
   ]
  },
  {
   "cell_type": "code",
   "execution_count": 11,
   "id": "5c47331b",
   "metadata": {
    "execution": {
     "iopub.execute_input": "2023-08-17T08:38:42.093030Z",
     "iopub.status.busy": "2023-08-17T08:38:42.092590Z",
     "iopub.status.idle": "2023-08-17T08:38:42.099305Z",
     "shell.execute_reply": "2023-08-17T08:38:42.097966Z"
    },
    "papermill": {
     "duration": 0.024786,
     "end_time": "2023-08-17T08:38:42.101800",
     "exception": false,
     "start_time": "2023-08-17T08:38:42.077014",
     "status": "completed"
    },
    "tags": []
   },
   "outputs": [],
   "source": [
    "df_test['Age'] = df_test['Age'].fillna(df_test['Age'].mean())"
   ]
  },
  {
   "cell_type": "code",
   "execution_count": 12,
   "id": "546b6989",
   "metadata": {
    "execution": {
     "iopub.execute_input": "2023-08-17T08:38:42.132698Z",
     "iopub.status.busy": "2023-08-17T08:38:42.131967Z",
     "iopub.status.idle": "2023-08-17T08:38:42.137720Z",
     "shell.execute_reply": "2023-08-17T08:38:42.136696Z"
    },
    "papermill": {
     "duration": 0.024574,
     "end_time": "2023-08-17T08:38:42.140383",
     "exception": false,
     "start_time": "2023-08-17T08:38:42.115809",
     "status": "completed"
    },
    "tags": []
   },
   "outputs": [],
   "source": [
    "df_test['Fare'] = df_test['Fare'].fillna(df_test['Age'].mean())"
   ]
  },
  {
   "cell_type": "code",
   "execution_count": 13,
   "id": "1d8ed154",
   "metadata": {
    "execution": {
     "iopub.execute_input": "2023-08-17T08:38:42.169544Z",
     "iopub.status.busy": "2023-08-17T08:38:42.169113Z",
     "iopub.status.idle": "2023-08-17T08:38:42.185092Z",
     "shell.execute_reply": "2023-08-17T08:38:42.183739Z"
    },
    "papermill": {
     "duration": 0.034168,
     "end_time": "2023-08-17T08:38:42.188068",
     "exception": false,
     "start_time": "2023-08-17T08:38:42.153900",
     "status": "completed"
    },
    "tags": []
   },
   "outputs": [],
   "source": [
    "df_train = pd.get_dummies(df_train, columns = ['Pclass', 'Embarked','Sex'])"
   ]
  },
  {
   "cell_type": "code",
   "execution_count": 14,
   "id": "d01f0bca",
   "metadata": {
    "execution": {
     "iopub.execute_input": "2023-08-17T08:38:42.218444Z",
     "iopub.status.busy": "2023-08-17T08:38:42.217959Z",
     "iopub.status.idle": "2023-08-17T08:38:42.230703Z",
     "shell.execute_reply": "2023-08-17T08:38:42.229554Z"
    },
    "papermill": {
     "duration": 0.031282,
     "end_time": "2023-08-17T08:38:42.233449",
     "exception": false,
     "start_time": "2023-08-17T08:38:42.202167",
     "status": "completed"
    },
    "tags": []
   },
   "outputs": [],
   "source": [
    "df_test = pd.get_dummies(df_test, columns = ['Pclass', 'Embarked', 'Sex'])"
   ]
  },
  {
   "cell_type": "code",
   "execution_count": 15,
   "id": "38fa3e3b",
   "metadata": {
    "execution": {
     "iopub.execute_input": "2023-08-17T08:38:42.289286Z",
     "iopub.status.busy": "2023-08-17T08:38:42.288876Z",
     "iopub.status.idle": "2023-08-17T08:38:42.309883Z",
     "shell.execute_reply": "2023-08-17T08:38:42.308577Z"
    },
    "papermill": {
     "duration": 0.038005,
     "end_time": "2023-08-17T08:38:42.312330",
     "exception": false,
     "start_time": "2023-08-17T08:38:42.274325",
     "status": "completed"
    },
    "tags": []
   },
   "outputs": [
    {
     "data": {
      "text/html": [
       "<div>\n",
       "<style scoped>\n",
       "    .dataframe tbody tr th:only-of-type {\n",
       "        vertical-align: middle;\n",
       "    }\n",
       "\n",
       "    .dataframe tbody tr th {\n",
       "        vertical-align: top;\n",
       "    }\n",
       "\n",
       "    .dataframe thead th {\n",
       "        text-align: right;\n",
       "    }\n",
       "</style>\n",
       "<table border=\"1\" class=\"dataframe\">\n",
       "  <thead>\n",
       "    <tr style=\"text-align: right;\">\n",
       "      <th></th>\n",
       "      <th>PassengerId</th>\n",
       "      <th>Survived</th>\n",
       "      <th>Name</th>\n",
       "      <th>Age</th>\n",
       "      <th>SibSp</th>\n",
       "      <th>Parch</th>\n",
       "      <th>Ticket</th>\n",
       "      <th>Fare</th>\n",
       "      <th>Pclass_1</th>\n",
       "      <th>Pclass_2</th>\n",
       "      <th>Pclass_3</th>\n",
       "      <th>Embarked_C</th>\n",
       "      <th>Embarked_Q</th>\n",
       "      <th>Embarked_S</th>\n",
       "      <th>Sex_female</th>\n",
       "      <th>Sex_male</th>\n",
       "    </tr>\n",
       "  </thead>\n",
       "  <tbody>\n",
       "    <tr>\n",
       "      <th>0</th>\n",
       "      <td>1</td>\n",
       "      <td>0</td>\n",
       "      <td>Braund, Mr. Owen Harris</td>\n",
       "      <td>22.0</td>\n",
       "      <td>1</td>\n",
       "      <td>0</td>\n",
       "      <td>A/5 21171</td>\n",
       "      <td>7.2500</td>\n",
       "      <td>0</td>\n",
       "      <td>0</td>\n",
       "      <td>1</td>\n",
       "      <td>0</td>\n",
       "      <td>0</td>\n",
       "      <td>1</td>\n",
       "      <td>0</td>\n",
       "      <td>1</td>\n",
       "    </tr>\n",
       "    <tr>\n",
       "      <th>1</th>\n",
       "      <td>2</td>\n",
       "      <td>1</td>\n",
       "      <td>Cumings, Mrs. John Bradley (Florence Briggs Th...</td>\n",
       "      <td>38.0</td>\n",
       "      <td>1</td>\n",
       "      <td>0</td>\n",
       "      <td>PC 17599</td>\n",
       "      <td>71.2833</td>\n",
       "      <td>1</td>\n",
       "      <td>0</td>\n",
       "      <td>0</td>\n",
       "      <td>1</td>\n",
       "      <td>0</td>\n",
       "      <td>0</td>\n",
       "      <td>1</td>\n",
       "      <td>0</td>\n",
       "    </tr>\n",
       "    <tr>\n",
       "      <th>2</th>\n",
       "      <td>3</td>\n",
       "      <td>1</td>\n",
       "      <td>Heikkinen, Miss. Laina</td>\n",
       "      <td>26.0</td>\n",
       "      <td>0</td>\n",
       "      <td>0</td>\n",
       "      <td>STON/O2. 3101282</td>\n",
       "      <td>7.9250</td>\n",
       "      <td>0</td>\n",
       "      <td>0</td>\n",
       "      <td>1</td>\n",
       "      <td>0</td>\n",
       "      <td>0</td>\n",
       "      <td>1</td>\n",
       "      <td>1</td>\n",
       "      <td>0</td>\n",
       "    </tr>\n",
       "    <tr>\n",
       "      <th>3</th>\n",
       "      <td>4</td>\n",
       "      <td>1</td>\n",
       "      <td>Futrelle, Mrs. Jacques Heath (Lily May Peel)</td>\n",
       "      <td>35.0</td>\n",
       "      <td>1</td>\n",
       "      <td>0</td>\n",
       "      <td>113803</td>\n",
       "      <td>53.1000</td>\n",
       "      <td>1</td>\n",
       "      <td>0</td>\n",
       "      <td>0</td>\n",
       "      <td>0</td>\n",
       "      <td>0</td>\n",
       "      <td>1</td>\n",
       "      <td>1</td>\n",
       "      <td>0</td>\n",
       "    </tr>\n",
       "    <tr>\n",
       "      <th>4</th>\n",
       "      <td>5</td>\n",
       "      <td>0</td>\n",
       "      <td>Allen, Mr. William Henry</td>\n",
       "      <td>35.0</td>\n",
       "      <td>0</td>\n",
       "      <td>0</td>\n",
       "      <td>373450</td>\n",
       "      <td>8.0500</td>\n",
       "      <td>0</td>\n",
       "      <td>0</td>\n",
       "      <td>1</td>\n",
       "      <td>0</td>\n",
       "      <td>0</td>\n",
       "      <td>1</td>\n",
       "      <td>0</td>\n",
       "      <td>1</td>\n",
       "    </tr>\n",
       "  </tbody>\n",
       "</table>\n",
       "</div>"
      ],
      "text/plain": [
       "   PassengerId  Survived                                               Name  \\\n",
       "0            1         0                            Braund, Mr. Owen Harris   \n",
       "1            2         1  Cumings, Mrs. John Bradley (Florence Briggs Th...   \n",
       "2            3         1                             Heikkinen, Miss. Laina   \n",
       "3            4         1       Futrelle, Mrs. Jacques Heath (Lily May Peel)   \n",
       "4            5         0                           Allen, Mr. William Henry   \n",
       "\n",
       "    Age  SibSp  Parch            Ticket     Fare  Pclass_1  Pclass_2  \\\n",
       "0  22.0      1      0         A/5 21171   7.2500         0         0   \n",
       "1  38.0      1      0          PC 17599  71.2833         1         0   \n",
       "2  26.0      0      0  STON/O2. 3101282   7.9250         0         0   \n",
       "3  35.0      1      0            113803  53.1000         1         0   \n",
       "4  35.0      0      0            373450   8.0500         0         0   \n",
       "\n",
       "   Pclass_3  Embarked_C  Embarked_Q  Embarked_S  Sex_female  Sex_male  \n",
       "0         1           0           0           1           0         1  \n",
       "1         0           1           0           0           1         0  \n",
       "2         1           0           0           1           1         0  \n",
       "3         0           0           0           1           1         0  \n",
       "4         1           0           0           1           0         1  "
      ]
     },
     "execution_count": 15,
     "metadata": {},
     "output_type": "execute_result"
    }
   ],
   "source": [
    "df_train.head()"
   ]
  },
  {
   "cell_type": "code",
   "execution_count": 16,
   "id": "27e0f566",
   "metadata": {
    "execution": {
     "iopub.execute_input": "2023-08-17T08:38:42.342018Z",
     "iopub.status.busy": "2023-08-17T08:38:42.341381Z",
     "iopub.status.idle": "2023-08-17T08:38:42.350090Z",
     "shell.execute_reply": "2023-08-17T08:38:42.348847Z"
    },
    "papermill": {
     "duration": 0.026559,
     "end_time": "2023-08-17T08:38:42.352425",
     "exception": false,
     "start_time": "2023-08-17T08:38:42.325866",
     "status": "completed"
    },
    "tags": []
   },
   "outputs": [
    {
     "data": {
      "text/plain": [
       "Index(['PassengerId', 'Name', 'Age', 'SibSp', 'Parch', 'Ticket', 'Fare',\n",
       "       'Pclass_1', 'Pclass_2', 'Pclass_3', 'Embarked_C', 'Embarked_Q',\n",
       "       'Embarked_S', 'Sex_female', 'Sex_male'],\n",
       "      dtype='object')"
      ]
     },
     "execution_count": 16,
     "metadata": {},
     "output_type": "execute_result"
    }
   ],
   "source": [
    "df_test.columns"
   ]
  },
  {
   "cell_type": "code",
   "execution_count": 17,
   "id": "ee92feba",
   "metadata": {
    "execution": {
     "iopub.execute_input": "2023-08-17T08:38:42.382544Z",
     "iopub.status.busy": "2023-08-17T08:38:42.382093Z",
     "iopub.status.idle": "2023-08-17T08:38:42.389568Z",
     "shell.execute_reply": "2023-08-17T08:38:42.388380Z"
    },
    "papermill": {
     "duration": 0.025385,
     "end_time": "2023-08-17T08:38:42.391963",
     "exception": false,
     "start_time": "2023-08-17T08:38:42.366578",
     "status": "completed"
    },
    "tags": []
   },
   "outputs": [
    {
     "data": {
      "text/plain": [
       "Index(['PassengerId', 'Survived', 'Name', 'Age', 'SibSp', 'Parch', 'Ticket',\n",
       "       'Fare', 'Pclass_1', 'Pclass_2', 'Pclass_3', 'Embarked_C', 'Embarked_Q',\n",
       "       'Embarked_S', 'Sex_female', 'Sex_male'],\n",
       "      dtype='object')"
      ]
     },
     "execution_count": 17,
     "metadata": {},
     "output_type": "execute_result"
    }
   ],
   "source": [
    "df_train.columns"
   ]
  },
  {
   "cell_type": "code",
   "execution_count": 18,
   "id": "f0f9a510",
   "metadata": {
    "execution": {
     "iopub.execute_input": "2023-08-17T08:38:42.421560Z",
     "iopub.status.busy": "2023-08-17T08:38:42.421111Z",
     "iopub.status.idle": "2023-08-17T08:38:42.428794Z",
     "shell.execute_reply": "2023-08-17T08:38:42.427428Z"
    },
    "papermill": {
     "duration": 0.025572,
     "end_time": "2023-08-17T08:38:42.431466",
     "exception": false,
     "start_time": "2023-08-17T08:38:42.405894",
     "status": "completed"
    },
    "tags": []
   },
   "outputs": [],
   "source": [
    "df_train.drop(['Name', 'Ticket'], axis = 1, inplace = True)"
   ]
  },
  {
   "cell_type": "code",
   "execution_count": 19,
   "id": "57f15351",
   "metadata": {
    "execution": {
     "iopub.execute_input": "2023-08-17T08:38:42.462806Z",
     "iopub.status.busy": "2023-08-17T08:38:42.462378Z",
     "iopub.status.idle": "2023-08-17T08:38:42.470011Z",
     "shell.execute_reply": "2023-08-17T08:38:42.468747Z"
    },
    "papermill": {
     "duration": 0.025911,
     "end_time": "2023-08-17T08:38:42.472865",
     "exception": false,
     "start_time": "2023-08-17T08:38:42.446954",
     "status": "completed"
    },
    "tags": []
   },
   "outputs": [],
   "source": [
    "df_test.drop(['Name', 'Ticket'], axis = 1, inplace = True)"
   ]
  },
  {
   "cell_type": "code",
   "execution_count": 20,
   "id": "0514acdd",
   "metadata": {
    "execution": {
     "iopub.execute_input": "2023-08-17T08:38:42.502631Z",
     "iopub.status.busy": "2023-08-17T08:38:42.502158Z",
     "iopub.status.idle": "2023-08-17T08:38:42.522108Z",
     "shell.execute_reply": "2023-08-17T08:38:42.520640Z"
    },
    "papermill": {
     "duration": 0.037785,
     "end_time": "2023-08-17T08:38:42.524942",
     "exception": false,
     "start_time": "2023-08-17T08:38:42.487157",
     "status": "completed"
    },
    "tags": []
   },
   "outputs": [
    {
     "name": "stdout",
     "output_type": "stream",
     "text": [
      "<class 'pandas.core.frame.DataFrame'>\n",
      "RangeIndex: 891 entries, 0 to 890\n",
      "Data columns (total 14 columns):\n",
      " #   Column       Non-Null Count  Dtype  \n",
      "---  ------       --------------  -----  \n",
      " 0   PassengerId  891 non-null    int64  \n",
      " 1   Survived     891 non-null    int64  \n",
      " 2   Age          891 non-null    float64\n",
      " 3   SibSp        891 non-null    int64  \n",
      " 4   Parch        891 non-null    int64  \n",
      " 5   Fare         891 non-null    float64\n",
      " 6   Pclass_1     891 non-null    uint8  \n",
      " 7   Pclass_2     891 non-null    uint8  \n",
      " 8   Pclass_3     891 non-null    uint8  \n",
      " 9   Embarked_C   891 non-null    uint8  \n",
      " 10  Embarked_Q   891 non-null    uint8  \n",
      " 11  Embarked_S   891 non-null    uint8  \n",
      " 12  Sex_female   891 non-null    uint8  \n",
      " 13  Sex_male     891 non-null    uint8  \n",
      "dtypes: float64(2), int64(4), uint8(8)\n",
      "memory usage: 48.9 KB\n"
     ]
    }
   ],
   "source": [
    "df_train.info()"
   ]
  },
  {
   "cell_type": "code",
   "execution_count": 21,
   "id": "85edfcc7",
   "metadata": {
    "execution": {
     "iopub.execute_input": "2023-08-17T08:38:42.556107Z",
     "iopub.status.busy": "2023-08-17T08:38:42.555668Z",
     "iopub.status.idle": "2023-08-17T08:38:42.569470Z",
     "shell.execute_reply": "2023-08-17T08:38:42.568378Z"
    },
    "papermill": {
     "duration": 0.032904,
     "end_time": "2023-08-17T08:38:42.572240",
     "exception": false,
     "start_time": "2023-08-17T08:38:42.539336",
     "status": "completed"
    },
    "tags": []
   },
   "outputs": [
    {
     "name": "stdout",
     "output_type": "stream",
     "text": [
      "<class 'pandas.core.frame.DataFrame'>\n",
      "RangeIndex: 418 entries, 0 to 417\n",
      "Data columns (total 13 columns):\n",
      " #   Column       Non-Null Count  Dtype  \n",
      "---  ------       --------------  -----  \n",
      " 0   PassengerId  418 non-null    int64  \n",
      " 1   Age          418 non-null    float64\n",
      " 2   SibSp        418 non-null    int64  \n",
      " 3   Parch        418 non-null    int64  \n",
      " 4   Fare         418 non-null    float64\n",
      " 5   Pclass_1     418 non-null    uint8  \n",
      " 6   Pclass_2     418 non-null    uint8  \n",
      " 7   Pclass_3     418 non-null    uint8  \n",
      " 8   Embarked_C   418 non-null    uint8  \n",
      " 9   Embarked_Q   418 non-null    uint8  \n",
      " 10  Embarked_S   418 non-null    uint8  \n",
      " 11  Sex_female   418 non-null    uint8  \n",
      " 12  Sex_male     418 non-null    uint8  \n",
      "dtypes: float64(2), int64(3), uint8(8)\n",
      "memory usage: 19.7 KB\n"
     ]
    }
   ],
   "source": [
    "df_test.info()"
   ]
  },
  {
   "cell_type": "code",
   "execution_count": 22,
   "id": "d9f7942f",
   "metadata": {
    "execution": {
     "iopub.execute_input": "2023-08-17T08:38:42.603578Z",
     "iopub.status.busy": "2023-08-17T08:38:42.603121Z",
     "iopub.status.idle": "2023-08-17T08:38:42.610184Z",
     "shell.execute_reply": "2023-08-17T08:38:42.608952Z"
    },
    "papermill": {
     "duration": 0.024914,
     "end_time": "2023-08-17T08:38:42.612587",
     "exception": false,
     "start_time": "2023-08-17T08:38:42.587673",
     "status": "completed"
    },
    "tags": []
   },
   "outputs": [],
   "source": [
    "X = df_train.drop(['Survived'], axis = 1)\n",
    "y = df_train['Survived']"
   ]
  },
  {
   "cell_type": "code",
   "execution_count": 23,
   "id": "b8f9559b",
   "metadata": {
    "execution": {
     "iopub.execute_input": "2023-08-17T08:38:42.643170Z",
     "iopub.status.busy": "2023-08-17T08:38:42.642428Z",
     "iopub.status.idle": "2023-08-17T08:38:42.937580Z",
     "shell.execute_reply": "2023-08-17T08:38:42.936521Z"
    },
    "papermill": {
     "duration": 0.313452,
     "end_time": "2023-08-17T08:38:42.940125",
     "exception": false,
     "start_time": "2023-08-17T08:38:42.626673",
     "status": "completed"
    },
    "tags": []
   },
   "outputs": [],
   "source": [
    "from sklearn.model_selection import train_test_split"
   ]
  },
  {
   "cell_type": "code",
   "execution_count": 24,
   "id": "9818fac1",
   "metadata": {
    "execution": {
     "iopub.execute_input": "2023-08-17T08:38:42.973366Z",
     "iopub.status.busy": "2023-08-17T08:38:42.972592Z",
     "iopub.status.idle": "2023-08-17T08:38:42.980064Z",
     "shell.execute_reply": "2023-08-17T08:38:42.979131Z"
    },
    "papermill": {
     "duration": 0.026284,
     "end_time": "2023-08-17T08:38:42.982707",
     "exception": false,
     "start_time": "2023-08-17T08:38:42.956423",
     "status": "completed"
    },
    "tags": []
   },
   "outputs": [],
   "source": [
    "X_train, X_test, y_train, y_test = train_test_split(X, y, test_size=0.3, random_state=101)"
   ]
  },
  {
   "cell_type": "code",
   "execution_count": 25,
   "id": "7915843b",
   "metadata": {
    "execution": {
     "iopub.execute_input": "2023-08-17T08:38:43.013800Z",
     "iopub.status.busy": "2023-08-17T08:38:43.012572Z",
     "iopub.status.idle": "2023-08-17T08:38:43.125797Z",
     "shell.execute_reply": "2023-08-17T08:38:43.124453Z"
    },
    "papermill": {
     "duration": 0.131678,
     "end_time": "2023-08-17T08:38:43.128814",
     "exception": false,
     "start_time": "2023-08-17T08:38:42.997136",
     "status": "completed"
    },
    "tags": []
   },
   "outputs": [],
   "source": [
    "from sklearn.linear_model import LogisticRegression"
   ]
  },
  {
   "cell_type": "code",
   "execution_count": 26,
   "id": "66b7530a",
   "metadata": {
    "execution": {
     "iopub.execute_input": "2023-08-17T08:38:43.158772Z",
     "iopub.status.busy": "2023-08-17T08:38:43.158310Z",
     "iopub.status.idle": "2023-08-17T08:38:43.163313Z",
     "shell.execute_reply": "2023-08-17T08:38:43.162158Z"
    },
    "papermill": {
     "duration": 0.022636,
     "end_time": "2023-08-17T08:38:43.165653",
     "exception": false,
     "start_time": "2023-08-17T08:38:43.143017",
     "status": "completed"
    },
    "tags": []
   },
   "outputs": [],
   "source": [
    "lr = LogisticRegression()"
   ]
  },
  {
   "cell_type": "code",
   "execution_count": 27,
   "id": "3b8037b5",
   "metadata": {
    "execution": {
     "iopub.execute_input": "2023-08-17T08:38:43.195505Z",
     "iopub.status.busy": "2023-08-17T08:38:43.195077Z",
     "iopub.status.idle": "2023-08-17T08:38:43.246997Z",
     "shell.execute_reply": "2023-08-17T08:38:43.245736Z"
    },
    "papermill": {
     "duration": 0.069858,
     "end_time": "2023-08-17T08:38:43.249466",
     "exception": false,
     "start_time": "2023-08-17T08:38:43.179608",
     "status": "completed"
    },
    "tags": []
   },
   "outputs": [
    {
     "name": "stderr",
     "output_type": "stream",
     "text": [
      "/opt/conda/lib/python3.10/site-packages/sklearn/linear_model/_logistic.py:458: ConvergenceWarning: lbfgs failed to converge (status=1):\n",
      "STOP: TOTAL NO. of ITERATIONS REACHED LIMIT.\n",
      "\n",
      "Increase the number of iterations (max_iter) or scale the data as shown in:\n",
      "    https://scikit-learn.org/stable/modules/preprocessing.html\n",
      "Please also refer to the documentation for alternative solver options:\n",
      "    https://scikit-learn.org/stable/modules/linear_model.html#logistic-regression\n",
      "  n_iter_i = _check_optimize_result(\n"
     ]
    },
    {
     "data": {
      "text/html": [
       "<style>#sk-container-id-1 {color: black;background-color: white;}#sk-container-id-1 pre{padding: 0;}#sk-container-id-1 div.sk-toggleable {background-color: white;}#sk-container-id-1 label.sk-toggleable__label {cursor: pointer;display: block;width: 100%;margin-bottom: 0;padding: 0.3em;box-sizing: border-box;text-align: center;}#sk-container-id-1 label.sk-toggleable__label-arrow:before {content: \"▸\";float: left;margin-right: 0.25em;color: #696969;}#sk-container-id-1 label.sk-toggleable__label-arrow:hover:before {color: black;}#sk-container-id-1 div.sk-estimator:hover label.sk-toggleable__label-arrow:before {color: black;}#sk-container-id-1 div.sk-toggleable__content {max-height: 0;max-width: 0;overflow: hidden;text-align: left;background-color: #f0f8ff;}#sk-container-id-1 div.sk-toggleable__content pre {margin: 0.2em;color: black;border-radius: 0.25em;background-color: #f0f8ff;}#sk-container-id-1 input.sk-toggleable__control:checked~div.sk-toggleable__content {max-height: 200px;max-width: 100%;overflow: auto;}#sk-container-id-1 input.sk-toggleable__control:checked~label.sk-toggleable__label-arrow:before {content: \"▾\";}#sk-container-id-1 div.sk-estimator input.sk-toggleable__control:checked~label.sk-toggleable__label {background-color: #d4ebff;}#sk-container-id-1 div.sk-label input.sk-toggleable__control:checked~label.sk-toggleable__label {background-color: #d4ebff;}#sk-container-id-1 input.sk-hidden--visually {border: 0;clip: rect(1px 1px 1px 1px);clip: rect(1px, 1px, 1px, 1px);height: 1px;margin: -1px;overflow: hidden;padding: 0;position: absolute;width: 1px;}#sk-container-id-1 div.sk-estimator {font-family: monospace;background-color: #f0f8ff;border: 1px dotted black;border-radius: 0.25em;box-sizing: border-box;margin-bottom: 0.5em;}#sk-container-id-1 div.sk-estimator:hover {background-color: #d4ebff;}#sk-container-id-1 div.sk-parallel-item::after {content: \"\";width: 100%;border-bottom: 1px solid gray;flex-grow: 1;}#sk-container-id-1 div.sk-label:hover label.sk-toggleable__label {background-color: #d4ebff;}#sk-container-id-1 div.sk-serial::before {content: \"\";position: absolute;border-left: 1px solid gray;box-sizing: border-box;top: 0;bottom: 0;left: 50%;z-index: 0;}#sk-container-id-1 div.sk-serial {display: flex;flex-direction: column;align-items: center;background-color: white;padding-right: 0.2em;padding-left: 0.2em;position: relative;}#sk-container-id-1 div.sk-item {position: relative;z-index: 1;}#sk-container-id-1 div.sk-parallel {display: flex;align-items: stretch;justify-content: center;background-color: white;position: relative;}#sk-container-id-1 div.sk-item::before, #sk-container-id-1 div.sk-parallel-item::before {content: \"\";position: absolute;border-left: 1px solid gray;box-sizing: border-box;top: 0;bottom: 0;left: 50%;z-index: -1;}#sk-container-id-1 div.sk-parallel-item {display: flex;flex-direction: column;z-index: 1;position: relative;background-color: white;}#sk-container-id-1 div.sk-parallel-item:first-child::after {align-self: flex-end;width: 50%;}#sk-container-id-1 div.sk-parallel-item:last-child::after {align-self: flex-start;width: 50%;}#sk-container-id-1 div.sk-parallel-item:only-child::after {width: 0;}#sk-container-id-1 div.sk-dashed-wrapped {border: 1px dashed gray;margin: 0 0.4em 0.5em 0.4em;box-sizing: border-box;padding-bottom: 0.4em;background-color: white;}#sk-container-id-1 div.sk-label label {font-family: monospace;font-weight: bold;display: inline-block;line-height: 1.2em;}#sk-container-id-1 div.sk-label-container {text-align: center;}#sk-container-id-1 div.sk-container {/* jupyter's `normalize.less` sets `[hidden] { display: none; }` but bootstrap.min.css set `[hidden] { display: none !important; }` so we also need the `!important` here to be able to override the default hidden behavior on the sphinx rendered scikit-learn.org. See: https://github.com/scikit-learn/scikit-learn/issues/21755 */display: inline-block !important;position: relative;}#sk-container-id-1 div.sk-text-repr-fallback {display: none;}</style><div id=\"sk-container-id-1\" class=\"sk-top-container\"><div class=\"sk-text-repr-fallback\"><pre>LogisticRegression()</pre><b>In a Jupyter environment, please rerun this cell to show the HTML representation or trust the notebook. <br />On GitHub, the HTML representation is unable to render, please try loading this page with nbviewer.org.</b></div><div class=\"sk-container\" hidden><div class=\"sk-item\"><div class=\"sk-estimator sk-toggleable\"><input class=\"sk-toggleable__control sk-hidden--visually\" id=\"sk-estimator-id-1\" type=\"checkbox\" checked><label for=\"sk-estimator-id-1\" class=\"sk-toggleable__label sk-toggleable__label-arrow\">LogisticRegression</label><div class=\"sk-toggleable__content\"><pre>LogisticRegression()</pre></div></div></div></div></div>"
      ],
      "text/plain": [
       "LogisticRegression()"
      ]
     },
     "execution_count": 27,
     "metadata": {},
     "output_type": "execute_result"
    }
   ],
   "source": [
    "lr.fit(X_train, y_train)"
   ]
  },
  {
   "cell_type": "code",
   "execution_count": 28,
   "id": "d1f0733f",
   "metadata": {
    "execution": {
     "iopub.execute_input": "2023-08-17T08:38:43.281510Z",
     "iopub.status.busy": "2023-08-17T08:38:43.281066Z",
     "iopub.status.idle": "2023-08-17T08:38:43.288692Z",
     "shell.execute_reply": "2023-08-17T08:38:43.287436Z"
    },
    "papermill": {
     "duration": 0.026713,
     "end_time": "2023-08-17T08:38:43.291209",
     "exception": false,
     "start_time": "2023-08-17T08:38:43.264496",
     "status": "completed"
    },
    "tags": []
   },
   "outputs": [],
   "source": [
    "pr = lr.predict(X_test)"
   ]
  },
  {
   "cell_type": "code",
   "execution_count": 29,
   "id": "ceee59c0",
   "metadata": {
    "execution": {
     "iopub.execute_input": "2023-08-17T08:38:43.324447Z",
     "iopub.status.busy": "2023-08-17T08:38:43.323435Z",
     "iopub.status.idle": "2023-08-17T08:38:43.329781Z",
     "shell.execute_reply": "2023-08-17T08:38:43.328754Z"
    },
    "papermill": {
     "duration": 0.025524,
     "end_time": "2023-08-17T08:38:43.332249",
     "exception": false,
     "start_time": "2023-08-17T08:38:43.306725",
     "status": "completed"
    },
    "tags": []
   },
   "outputs": [],
   "source": [
    "from sklearn.metrics import classification_report, confusion_matrix"
   ]
  },
  {
   "cell_type": "code",
   "execution_count": 30,
   "id": "f7c5f440",
   "metadata": {
    "execution": {
     "iopub.execute_input": "2023-08-17T08:38:43.363696Z",
     "iopub.status.busy": "2023-08-17T08:38:43.363007Z",
     "iopub.status.idle": "2023-08-17T08:38:43.377559Z",
     "shell.execute_reply": "2023-08-17T08:38:43.375973Z"
    },
    "papermill": {
     "duration": 0.033455,
     "end_time": "2023-08-17T08:38:43.380346",
     "exception": false,
     "start_time": "2023-08-17T08:38:43.346891",
     "status": "completed"
    },
    "tags": []
   },
   "outputs": [
    {
     "name": "stdout",
     "output_type": "stream",
     "text": [
      "              precision    recall  f1-score   support\n",
      "\n",
      "           0       0.88      0.78      0.82       174\n",
      "           1       0.66      0.80      0.72        94\n",
      "\n",
      "    accuracy                           0.78       268\n",
      "   macro avg       0.77      0.79      0.77       268\n",
      "weighted avg       0.80      0.78      0.79       268\n",
      "\n"
     ]
    }
   ],
   "source": [
    "print(classification_report(pr, y_test))"
   ]
  },
  {
   "cell_type": "code",
   "execution_count": 31,
   "id": "a5c1e307",
   "metadata": {
    "execution": {
     "iopub.execute_input": "2023-08-17T08:38:43.412639Z",
     "iopub.status.busy": "2023-08-17T08:38:43.412198Z",
     "iopub.status.idle": "2023-08-17T08:38:43.417062Z",
     "shell.execute_reply": "2023-08-17T08:38:43.415766Z"
    },
    "papermill": {
     "duration": 0.024206,
     "end_time": "2023-08-17T08:38:43.419878",
     "exception": false,
     "start_time": "2023-08-17T08:38:43.395672",
     "status": "completed"
    },
    "tags": []
   },
   "outputs": [],
   "source": [
    "lrm = LogisticRegression()"
   ]
  },
  {
   "cell_type": "code",
   "execution_count": 32,
   "id": "be5ea061",
   "metadata": {
    "execution": {
     "iopub.execute_input": "2023-08-17T08:38:43.454408Z",
     "iopub.status.busy": "2023-08-17T08:38:43.453953Z",
     "iopub.status.idle": "2023-08-17T08:38:43.496293Z",
     "shell.execute_reply": "2023-08-17T08:38:43.494427Z"
    },
    "papermill": {
     "duration": 0.0638,
     "end_time": "2023-08-17T08:38:43.499527",
     "exception": false,
     "start_time": "2023-08-17T08:38:43.435727",
     "status": "completed"
    },
    "tags": []
   },
   "outputs": [
    {
     "name": "stderr",
     "output_type": "stream",
     "text": [
      "/opt/conda/lib/python3.10/site-packages/sklearn/linear_model/_logistic.py:458: ConvergenceWarning: lbfgs failed to converge (status=1):\n",
      "STOP: TOTAL NO. of ITERATIONS REACHED LIMIT.\n",
      "\n",
      "Increase the number of iterations (max_iter) or scale the data as shown in:\n",
      "    https://scikit-learn.org/stable/modules/preprocessing.html\n",
      "Please also refer to the documentation for alternative solver options:\n",
      "    https://scikit-learn.org/stable/modules/linear_model.html#logistic-regression\n",
      "  n_iter_i = _check_optimize_result(\n"
     ]
    },
    {
     "data": {
      "text/html": [
       "<style>#sk-container-id-2 {color: black;background-color: white;}#sk-container-id-2 pre{padding: 0;}#sk-container-id-2 div.sk-toggleable {background-color: white;}#sk-container-id-2 label.sk-toggleable__label {cursor: pointer;display: block;width: 100%;margin-bottom: 0;padding: 0.3em;box-sizing: border-box;text-align: center;}#sk-container-id-2 label.sk-toggleable__label-arrow:before {content: \"▸\";float: left;margin-right: 0.25em;color: #696969;}#sk-container-id-2 label.sk-toggleable__label-arrow:hover:before {color: black;}#sk-container-id-2 div.sk-estimator:hover label.sk-toggleable__label-arrow:before {color: black;}#sk-container-id-2 div.sk-toggleable__content {max-height: 0;max-width: 0;overflow: hidden;text-align: left;background-color: #f0f8ff;}#sk-container-id-2 div.sk-toggleable__content pre {margin: 0.2em;color: black;border-radius: 0.25em;background-color: #f0f8ff;}#sk-container-id-2 input.sk-toggleable__control:checked~div.sk-toggleable__content {max-height: 200px;max-width: 100%;overflow: auto;}#sk-container-id-2 input.sk-toggleable__control:checked~label.sk-toggleable__label-arrow:before {content: \"▾\";}#sk-container-id-2 div.sk-estimator input.sk-toggleable__control:checked~label.sk-toggleable__label {background-color: #d4ebff;}#sk-container-id-2 div.sk-label input.sk-toggleable__control:checked~label.sk-toggleable__label {background-color: #d4ebff;}#sk-container-id-2 input.sk-hidden--visually {border: 0;clip: rect(1px 1px 1px 1px);clip: rect(1px, 1px, 1px, 1px);height: 1px;margin: -1px;overflow: hidden;padding: 0;position: absolute;width: 1px;}#sk-container-id-2 div.sk-estimator {font-family: monospace;background-color: #f0f8ff;border: 1px dotted black;border-radius: 0.25em;box-sizing: border-box;margin-bottom: 0.5em;}#sk-container-id-2 div.sk-estimator:hover {background-color: #d4ebff;}#sk-container-id-2 div.sk-parallel-item::after {content: \"\";width: 100%;border-bottom: 1px solid gray;flex-grow: 1;}#sk-container-id-2 div.sk-label:hover label.sk-toggleable__label {background-color: #d4ebff;}#sk-container-id-2 div.sk-serial::before {content: \"\";position: absolute;border-left: 1px solid gray;box-sizing: border-box;top: 0;bottom: 0;left: 50%;z-index: 0;}#sk-container-id-2 div.sk-serial {display: flex;flex-direction: column;align-items: center;background-color: white;padding-right: 0.2em;padding-left: 0.2em;position: relative;}#sk-container-id-2 div.sk-item {position: relative;z-index: 1;}#sk-container-id-2 div.sk-parallel {display: flex;align-items: stretch;justify-content: center;background-color: white;position: relative;}#sk-container-id-2 div.sk-item::before, #sk-container-id-2 div.sk-parallel-item::before {content: \"\";position: absolute;border-left: 1px solid gray;box-sizing: border-box;top: 0;bottom: 0;left: 50%;z-index: -1;}#sk-container-id-2 div.sk-parallel-item {display: flex;flex-direction: column;z-index: 1;position: relative;background-color: white;}#sk-container-id-2 div.sk-parallel-item:first-child::after {align-self: flex-end;width: 50%;}#sk-container-id-2 div.sk-parallel-item:last-child::after {align-self: flex-start;width: 50%;}#sk-container-id-2 div.sk-parallel-item:only-child::after {width: 0;}#sk-container-id-2 div.sk-dashed-wrapped {border: 1px dashed gray;margin: 0 0.4em 0.5em 0.4em;box-sizing: border-box;padding-bottom: 0.4em;background-color: white;}#sk-container-id-2 div.sk-label label {font-family: monospace;font-weight: bold;display: inline-block;line-height: 1.2em;}#sk-container-id-2 div.sk-label-container {text-align: center;}#sk-container-id-2 div.sk-container {/* jupyter's `normalize.less` sets `[hidden] { display: none; }` but bootstrap.min.css set `[hidden] { display: none !important; }` so we also need the `!important` here to be able to override the default hidden behavior on the sphinx rendered scikit-learn.org. See: https://github.com/scikit-learn/scikit-learn/issues/21755 */display: inline-block !important;position: relative;}#sk-container-id-2 div.sk-text-repr-fallback {display: none;}</style><div id=\"sk-container-id-2\" class=\"sk-top-container\"><div class=\"sk-text-repr-fallback\"><pre>LogisticRegression()</pre><b>In a Jupyter environment, please rerun this cell to show the HTML representation or trust the notebook. <br />On GitHub, the HTML representation is unable to render, please try loading this page with nbviewer.org.</b></div><div class=\"sk-container\" hidden><div class=\"sk-item\"><div class=\"sk-estimator sk-toggleable\"><input class=\"sk-toggleable__control sk-hidden--visually\" id=\"sk-estimator-id-2\" type=\"checkbox\" checked><label for=\"sk-estimator-id-2\" class=\"sk-toggleable__label sk-toggleable__label-arrow\">LogisticRegression</label><div class=\"sk-toggleable__content\"><pre>LogisticRegression()</pre></div></div></div></div></div>"
      ],
      "text/plain": [
       "LogisticRegression()"
      ]
     },
     "execution_count": 32,
     "metadata": {},
     "output_type": "execute_result"
    }
   ],
   "source": [
    "lrm.fit(X_train, y_train)"
   ]
  },
  {
   "cell_type": "code",
   "execution_count": 33,
   "id": "1cf088c3",
   "metadata": {
    "execution": {
     "iopub.execute_input": "2023-08-17T08:38:43.537737Z",
     "iopub.status.busy": "2023-08-17T08:38:43.537278Z",
     "iopub.status.idle": "2023-08-17T08:38:43.545374Z",
     "shell.execute_reply": "2023-08-17T08:38:43.544369Z"
    },
    "papermill": {
     "duration": 0.031262,
     "end_time": "2023-08-17T08:38:43.547995",
     "exception": false,
     "start_time": "2023-08-17T08:38:43.516733",
     "status": "completed"
    },
    "tags": []
   },
   "outputs": [],
   "source": [
    "prediction = lrm.predict(df_test)"
   ]
  },
  {
   "cell_type": "code",
   "execution_count": 34,
   "id": "fbbd19a9",
   "metadata": {
    "execution": {
     "iopub.execute_input": "2023-08-17T08:38:43.583120Z",
     "iopub.status.busy": "2023-08-17T08:38:43.582689Z",
     "iopub.status.idle": "2023-08-17T08:38:43.591897Z",
     "shell.execute_reply": "2023-08-17T08:38:43.590435Z"
    },
    "papermill": {
     "duration": 0.030001,
     "end_time": "2023-08-17T08:38:43.594901",
     "exception": false,
     "start_time": "2023-08-17T08:38:43.564900",
     "status": "completed"
    },
    "tags": []
   },
   "outputs": [
    {
     "data": {
      "text/plain": [
       "(418, 2)"
      ]
     },
     "execution_count": 34,
     "metadata": {},
     "output_type": "execute_result"
    }
   ],
   "source": [
    "submission.shape"
   ]
  },
  {
   "cell_type": "code",
   "execution_count": 35,
   "id": "dde9766f",
   "metadata": {
    "execution": {
     "iopub.execute_input": "2023-08-17T08:38:43.628683Z",
     "iopub.status.busy": "2023-08-17T08:38:43.627946Z",
     "iopub.status.idle": "2023-08-17T08:38:43.636156Z",
     "shell.execute_reply": "2023-08-17T08:38:43.634517Z"
    },
    "papermill": {
     "duration": 0.0288,
     "end_time": "2023-08-17T08:38:43.638963",
     "exception": false,
     "start_time": "2023-08-17T08:38:43.610163",
     "status": "completed"
    },
    "tags": []
   },
   "outputs": [
    {
     "data": {
      "text/plain": [
       "(418,)"
      ]
     },
     "execution_count": 35,
     "metadata": {},
     "output_type": "execute_result"
    }
   ],
   "source": [
    "prediction.shape"
   ]
  },
  {
   "cell_type": "code",
   "execution_count": 36,
   "id": "1c81c345",
   "metadata": {
    "execution": {
     "iopub.execute_input": "2023-08-17T08:38:43.672462Z",
     "iopub.status.busy": "2023-08-17T08:38:43.671867Z",
     "iopub.status.idle": "2023-08-17T08:38:43.679105Z",
     "shell.execute_reply": "2023-08-17T08:38:43.677772Z"
    },
    "papermill": {
     "duration": 0.027434,
     "end_time": "2023-08-17T08:38:43.681881",
     "exception": false,
     "start_time": "2023-08-17T08:38:43.654447",
     "status": "completed"
    },
    "tags": []
   },
   "outputs": [],
   "source": [
    "submission['Survived'] = prediction"
   ]
  },
  {
   "cell_type": "code",
   "execution_count": 37,
   "id": "ca14eef5",
   "metadata": {
    "execution": {
     "iopub.execute_input": "2023-08-17T08:38:43.715888Z",
     "iopub.status.busy": "2023-08-17T08:38:43.715438Z",
     "iopub.status.idle": "2023-08-17T08:38:43.730675Z",
     "shell.execute_reply": "2023-08-17T08:38:43.729317Z"
    },
    "papermill": {
     "duration": 0.035445,
     "end_time": "2023-08-17T08:38:43.733512",
     "exception": false,
     "start_time": "2023-08-17T08:38:43.698067",
     "status": "completed"
    },
    "tags": []
   },
   "outputs": [
    {
     "data": {
      "text/html": [
       "<div>\n",
       "<style scoped>\n",
       "    .dataframe tbody tr th:only-of-type {\n",
       "        vertical-align: middle;\n",
       "    }\n",
       "\n",
       "    .dataframe tbody tr th {\n",
       "        vertical-align: top;\n",
       "    }\n",
       "\n",
       "    .dataframe thead th {\n",
       "        text-align: right;\n",
       "    }\n",
       "</style>\n",
       "<table border=\"1\" class=\"dataframe\">\n",
       "  <thead>\n",
       "    <tr style=\"text-align: right;\">\n",
       "      <th></th>\n",
       "      <th>PassengerId</th>\n",
       "      <th>Survived</th>\n",
       "    </tr>\n",
       "  </thead>\n",
       "  <tbody>\n",
       "    <tr>\n",
       "      <th>0</th>\n",
       "      <td>892</td>\n",
       "      <td>0</td>\n",
       "    </tr>\n",
       "    <tr>\n",
       "      <th>1</th>\n",
       "      <td>893</td>\n",
       "      <td>0</td>\n",
       "    </tr>\n",
       "    <tr>\n",
       "      <th>2</th>\n",
       "      <td>894</td>\n",
       "      <td>0</td>\n",
       "    </tr>\n",
       "    <tr>\n",
       "      <th>3</th>\n",
       "      <td>895</td>\n",
       "      <td>0</td>\n",
       "    </tr>\n",
       "    <tr>\n",
       "      <th>4</th>\n",
       "      <td>896</td>\n",
       "      <td>1</td>\n",
       "    </tr>\n",
       "    <tr>\n",
       "      <th>...</th>\n",
       "      <td>...</td>\n",
       "      <td>...</td>\n",
       "    </tr>\n",
       "    <tr>\n",
       "      <th>413</th>\n",
       "      <td>1305</td>\n",
       "      <td>0</td>\n",
       "    </tr>\n",
       "    <tr>\n",
       "      <th>414</th>\n",
       "      <td>1306</td>\n",
       "      <td>1</td>\n",
       "    </tr>\n",
       "    <tr>\n",
       "      <th>415</th>\n",
       "      <td>1307</td>\n",
       "      <td>0</td>\n",
       "    </tr>\n",
       "    <tr>\n",
       "      <th>416</th>\n",
       "      <td>1308</td>\n",
       "      <td>0</td>\n",
       "    </tr>\n",
       "    <tr>\n",
       "      <th>417</th>\n",
       "      <td>1309</td>\n",
       "      <td>0</td>\n",
       "    </tr>\n",
       "  </tbody>\n",
       "</table>\n",
       "<p>418 rows × 2 columns</p>\n",
       "</div>"
      ],
      "text/plain": [
       "     PassengerId  Survived\n",
       "0            892         0\n",
       "1            893         0\n",
       "2            894         0\n",
       "3            895         0\n",
       "4            896         1\n",
       "..           ...       ...\n",
       "413         1305         0\n",
       "414         1306         1\n",
       "415         1307         0\n",
       "416         1308         0\n",
       "417         1309         0\n",
       "\n",
       "[418 rows x 2 columns]"
      ]
     },
     "execution_count": 37,
     "metadata": {},
     "output_type": "execute_result"
    }
   ],
   "source": [
    "submission"
   ]
  },
  {
   "cell_type": "code",
   "execution_count": 38,
   "id": "37bce492",
   "metadata": {
    "execution": {
     "iopub.execute_input": "2023-08-17T08:38:43.768693Z",
     "iopub.status.busy": "2023-08-17T08:38:43.767383Z",
     "iopub.status.idle": "2023-08-17T08:38:43.777332Z",
     "shell.execute_reply": "2023-08-17T08:38:43.776321Z"
    },
    "papermill": {
     "duration": 0.030694,
     "end_time": "2023-08-17T08:38:43.780348",
     "exception": false,
     "start_time": "2023-08-17T08:38:43.749654",
     "status": "completed"
    },
    "tags": []
   },
   "outputs": [],
   "source": [
    "submission.to_csv('submission.csv', index = False)"
   ]
  },
  {
   "cell_type": "code",
   "execution_count": null,
   "id": "cf158115",
   "metadata": {
    "papermill": {
     "duration": 0.016051,
     "end_time": "2023-08-17T08:38:43.813809",
     "exception": false,
     "start_time": "2023-08-17T08:38:43.797758",
     "status": "completed"
    },
    "tags": []
   },
   "outputs": [],
   "source": []
  }
 ],
 "metadata": {
  "kernelspec": {
   "display_name": "Python 3 (ipykernel)",
   "language": "python",
   "name": "python3"
  },
  "language_info": {
   "codemirror_mode": {
    "name": "ipython",
    "version": 3
   },
   "file_extension": ".py",
   "mimetype": "text/x-python",
   "name": "python",
   "nbconvert_exporter": "python",
   "pygments_lexer": "ipython3",
   "version": "3.10.7"
  },
  "papermill": {
   "default_parameters": {},
   "duration": 18.262468,
   "end_time": "2023-08-17T08:38:44.852796",
   "environment_variables": {},
   "exception": null,
   "input_path": "__notebook__.ipynb",
   "output_path": "__notebook__.ipynb",
   "parameters": {},
   "start_time": "2023-08-17T08:38:26.590328",
   "version": "2.4.0"
  }
 },
 "nbformat": 4,
 "nbformat_minor": 5
}
